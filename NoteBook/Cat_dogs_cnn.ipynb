{
 "cells": [
  {
   "cell_type": "code",
   "execution_count": null,
   "id": "f452d151",
   "metadata": {},
   "outputs": [],
   "source": [
    "import torch\n",
    "from torch import nn , optim \n",
    "import torch.nn.functional as F \n",
    "\n",
    "    "
   ]
  },
  {
   "cell_type": "code",
   "execution_count": null,
   "id": "a84ee80c",
   "metadata": {},
   "outputs": [],
   "source": [
    "data_dir = 'dataset/Cat_Dog_data'\n",
    "a\n",
    "# TODO: Define transforms for the training data and testing data\n",
    "train_transforms = transforms.Compose([transforms.RandomRotation(30),\n",
    "                                       transforms.RandomResizedCrop(256),\n",
    "                                       transforms.RandomHorizontalFlip(),\n",
    "                                       transforms.ToTensor()]) \n",
    "\n",
    "test_transforms = transforms.Compose([transforms.Resize(256),\n",
    "                                      transforms.CenterCrop(256), #256*256\n",
    "                                      transforms.ToTensor()])\n",
    "\n",
    "\n",
    "# Pass transforms in here, then run the next cell to see how the transforms look\n",
    "train_data = datasets.ImageFolder(data_dir + '/train_okey', transform=train_transforms)\n",
    "test_data = datasets.ImageFolder(data_dir + '/test_ok', transform=test_transforms)\n",
    "\n",
    "\n",
    "trainloader = torch.utils.data.DataLoader(train_data, batch_size=32)\n",
    "testloader = torch.utils.data.DataLoader(test_data, batch_size=32)\n"
   ]
  },
  {
   "cell_type": "code",
   "execution_count": null,
   "id": "29019ea9",
   "metadata": {},
   "outputs": [],
   "source": [
    "# change this to the trainloader or testloader \n",
    "data_iter = iter(trainloader)\n",
    "\n",
    "images, labels = next(data_iter)\n",
    "fig, axes = plt.subplots(figsize=(10,4), ncols=4)\n",
    "for ii in range(4):\n",
    "    ax = axes[ii]\n",
    "    helper.imshow(images[ii], ax=ax, normalize=False)"
   ]
  },
  {
   "cell_type": "markdown",
   "id": "943ec169",
   "metadata": {},
   "source": [
    "## classifier CNN class  "
   ]
  },
  {
   "cell_type": "code",
   "execution_count": null,
   "id": "78f0e519",
   "metadata": {},
   "outputs": [],
   "source": [
    "#creating the cnn class which was going to used in cats_dogs\n",
    "class CNN(nn.Module) :\n",
    "    def __init__(self):\n",
    "        super().__init__()\n",
    "\n",
    "        #defining no of convo layers to detect features \n",
    "        #image = 256*256\n",
    "        self.conv1 = nn.Conv2d(3 , 16 , 3 , padding=1 )\n",
    "        #image is half bcz of pooling ... 128*128*16\n",
    "        self.conv2 = nn.Conv2d(16 , 32 , 3 , padding=1 )\n",
    "        # #image is half bcz of pooling ... 64*64*32\n",
    "        self.conv3 = nn.Conv2d(32 , 64 , 3 , padding=1 )\n",
    "        #32*32*64\n",
    "        \n",
    "        #pooling \n",
    "        self.pool2d = nn.MaxPool2d(2,2)\n",
    "        \n",
    "        #now lets start the fullyConnected linear to predict the values \n",
    "        self.fc1 = nn.Linear(32*32*64  , 256 ) #input\n",
    "        self.fc2 = nn.Linear(256 , 128 )\n",
    "        self.fc3 = nn.Linear(128 , 64 )\n",
    "        self.fc4 = nn.Linear(64 , 2 )#output\n",
    "        \n",
    "        #dropOut bcz of overfitting \n",
    "        self.Dropout = nn.Dropout(0.2)\n",
    "        \n",
    "    def forward(self, x ) :\n",
    "        #conv pr bhe activationFunction lage gein \n",
    "        x = self.pool2d(  F.relu( self.conv1(x) ) ) \n",
    "        x = self.pool2d(  F.relu( self.conv2(x) ) ) \n",
    "        x = self.pool2d(  F.relu( self.conv3(x) ) ) \n",
    "        \n",
    "        #change the image size :: flattern \n",
    "        \n",
    "        x = x.view(-1 , 32*32*64) \n",
    "        \n",
    "        #now predicting Linear \n",
    "        x =  F.relu( self.fc1(x) ) \n",
    "        x =  F.relu( self.fc2(x) )   \n",
    "        x =  F.relu( self.fc3(x) )  \n",
    "        x =  F.log_softmax( self.fc4(x) ,dim=1)  \n",
    "        return x\n",
    "        \n",
    "        \n",
    "        "
   ]
  },
  {
   "cell_type": "code",
   "execution_count": null,
   "id": "3feb74f6",
   "metadata": {},
   "outputs": [],
   "source": [
    "model = CNN()\n",
    "criterion = nn.NLLLoss()\n",
    "optimizer = optim.Adam(model.parameters(), lr=0.003)\n",
    "\n",
    "\n"
   ]
  },
  {
   "cell_type": "markdown",
   "id": "86574d71",
   "metadata": {},
   "source": [
    "## Training "
   ]
  },
  {
   "cell_type": "code",
   "execution_count": null,
   "id": "9c2f5247",
   "metadata": {},
   "outputs": [],
   "source": [
    "epochs = 20\n",
    "\n",
    "train_losses, test_losses = [], []\n",
    "accuracy_tol = []\n",
    "for e in range(epochs):\n",
    "    tot_train_loss = 0\n",
    "    for images, labels in trainloader:\n",
    "        optimizer.zero_grad()\n",
    "       \n",
    "        log_ps = model.forward(images)\n",
    "        print(\"e=\",e)\n",
    "        loss = criterion(log_ps, labels)\n",
    "        tot_train_loss += loss.item()\n",
    "        \n",
    "        loss.backward()\n",
    "        optimizer.step()\n",
    "    else:\n",
    "        tot_test_loss = 0\n",
    "        test_correct = 0  # Number of correct predictions on the test set\n",
    "        \n",
    "        # # Turn off gradients for validation, saves memory and computations\n",
    "        with torch.no_grad():\n",
    "            for images, labels in testloader:\n",
    "                log_ps = model(images)\n",
    "                loss = criterion(log_ps, labels)\n",
    "                tot_test_loss += loss.item()\n",
    "\n",
    "                ps = torch.exp(log_ps)\n",
    "                top_p, top_class = ps.topk(1, dim=1)\n",
    "                equals = top_class == labels.view(*top_class.shape)\n",
    "                test_correct += equals.sum().item()\n",
    "\n",
    "        # Get mean loss to enable comparison between train and test sets\n",
    "        train_loss = tot_train_loss / len(trainloader.dataset)\n",
    "        test_loss = tot_test_loss / len(testloader.dataset)\n",
    "        accuracy = test_correct / len(testloader.dataset) \n",
    "        # At completion of epoch\n",
    "        train_losses.append(train_loss)\n",
    "        test_losses.append(test_loss)\n",
    "        accuracy_tol.append(accuracy)\n",
    "\n",
    "        print(\"Epoch: {}/{}.. \".format(e+1, epochs),\n",
    "              \"Training Loss: {:.3f}.. \".format(train_loss),\n",
    "              \"accuracy\" , accuracy \n",
    "              )"
   ]
  },
  {
   "cell_type": "markdown",
   "id": "851e7ca7",
   "metadata": {},
   "source": [
    "## anaylsis train loss and test loss using grpah "
   ]
  },
  {
   "cell_type": "code",
   "execution_count": null,
   "id": "5c6a592a",
   "metadata": {},
   "outputs": [],
   "source": [
    "%matplotlib inline\n",
    "%config InlineBackend.figure_format = 'retina'\n",
    "\n",
    "import matplotlib.pyplot as plt\n",
    "\n",
    "plt.plot(train_losses, label='Training loss')\n",
    "plt.plot(test_losses, label='test_loss loss')\n",
    "plt.plot(accuracy_tol, label='Accuracy test')\n",
    "\n",
    "plt.legend(frameon=False)"
   ]
  },
  {
   "cell_type": "markdown",
   "id": "1ab61837",
   "metadata": {},
   "source": [
    "## predicting "
   ]
  },
  {
   "cell_type": "code",
   "execution_count": null,
   "id": "1f766d01",
   "metadata": {},
   "outputs": [],
   "source": [
    "\n",
    "\n",
    "dog_probs = []\n",
    "model.eval()\n",
    "with torch.no_grad():\n",
    "    for data, fileid in testloader:\n",
    "        # print(data[0].shape)\n",
    "        # print(data[0].unsqueeze(0).shape)\n",
    "        #data = data.to(device)\n",
    "        preds = model.forward(data[0].unsqueeze(0))\n",
    "        \n",
    "        preds_list = F.softmax(preds, dim=1)[:].tolist()\n",
    "        print(preds_list)\n",
    "        helper.imshow(data[0], normalize=False)\n",
    "        dog_probs += list(zip(list(fileid), preds_list))\n",
    "        \n",
    "        \n",
    "\n",
    "\n"
   ]
  },
  {
   "cell_type": "code",
   "execution_count": null,
   "id": "a9c34fe3",
   "metadata": {},
   "outputs": [],
   "source": [
    "dog_probs.sort(key = lambda x : int(x[0]))\n",
    "dog_probs"
   ]
  }
 ],
 "metadata": {
  "kernelspec": {
   "display_name": "Python 3",
   "language": "python",
   "name": "python3"
  },
  "language_info": {
   "codemirror_mode": {
    "name": "ipython",
    "version": 3
   },
   "file_extension": ".py",
   "mimetype": "text/x-python",
   "name": "python",
   "nbconvert_exporter": "python",
   "pygments_lexer": "ipython3",
   "version": "3.8.8"
  }
 },
 "nbformat": 4,
 "nbformat_minor": 5
}
